{
 "cells": [
  {
   "cell_type": "code",
   "execution_count": 1,
   "id": "5eece7f1",
   "metadata": {},
   "outputs": [
    {
     "name": "stdout",
     "output_type": "stream",
     "text": [
      "True\n",
      "3\n",
      "10\n",
      "20\n",
      "1\n",
      "False\n"
     ]
    }
   ],
   "source": [
    "#Implement a queue using a list in Python. Include the necessary methods such as enqueue, dequeue, and isEmpty.\n",
    "\n",
    "#Here's an implementation of a queue using a list in Python:\n",
    "\n",
    "class Queue:\n",
    "    def __init__(self):\n",
    "        self.items = []\n",
    "\n",
    "    def enqueue(self, item):\n",
    "        self.items.append(item)\n",
    "\n",
    "    def dequeue(self):\n",
    "        if not self.is_empty():\n",
    "            return self.items.pop(0)\n",
    "        else:\n",
    "            raise IndexError(\"Cannot dequeue from an empty queue.\")\n",
    "\n",
    "    def is_empty(self):\n",
    "        return len(self.items) == 0\n",
    "\n",
    "    def size(self):\n",
    "        return len(self.items)\n",
    "queue = Queue()\n",
    "\n",
    "print(queue.is_empty())  # Output: True\n",
    "\n",
    "queue.enqueue(10)\n",
    "queue.enqueue(20)\n",
    "queue.enqueue(30)\n",
    "\n",
    "print(queue.size())  # Output: 3\n",
    "\n",
    "print(queue.dequeue())  # Output: 10\n",
    "print(queue.dequeue())  # Output: 20\n",
    "\n",
    "print(queue.size())  # Output: 1\n",
    "\n",
    "print(queue.is_empty())  # Output: False\n",
    "\n",
    "\"\"\"In the code above, we define a Queue class with the following methods:\n",
    "\n",
    "   • enqueue(item): This method adds an item to the end of the queue by using the append() method of the list.\n",
    "\n",
    "   • dequeue(): This method removes and returns the item at the front of the queue (index 0) using the pop(0) \n",
    "     method of the list. If the queue is empty, it raises an IndexError with a corresponding error message.\n",
    "\n",
    "   • is_empty(): This method checks if the queue is empty by checking the length of the list and returns True if \n",
    "     the length is 0, indicating an empty queue.\n",
    "\n",
    "   • size(): This method returns the current size of the queue by returning the length of the list.\"\"\"\n"
   ]
  },
  {
   "cell_type": "code",
   "execution_count": null,
   "id": "69376b71",
   "metadata": {},
   "outputs": [],
   "source": []
  }
 ],
 "metadata": {
  "kernelspec": {
   "display_name": "Python 3 (ipykernel)",
   "language": "python",
   "name": "python3"
  },
  "language_info": {
   "codemirror_mode": {
    "name": "ipython",
    "version": 3
   },
   "file_extension": ".py",
   "mimetype": "text/x-python",
   "name": "python",
   "nbconvert_exporter": "python",
   "pygments_lexer": "ipython3",
   "version": "3.9.12"
  }
 },
 "nbformat": 4,
 "nbformat_minor": 5
}
